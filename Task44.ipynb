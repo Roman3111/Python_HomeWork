{
 "cells": [
  {
   "attachments": {},
   "cell_type": "markdown",
   "metadata": {},
   "source": [
    "Задача 44. В ячейке ниже представлен код генерирующий DataFrame, которая состоит всего из 1 столбца. Ваша задача перевести его в one hot вид. Сможете ли вы это сделать без get_dummies?"
   ]
  },
  {
   "attachments": {},
   "cell_type": "markdown",
   "metadata": {},
   "source": [
    "Можно использовать метод `pandas.get_dummies()` с параметром `columns`, чтобы преобразовать столбец в one hot формат:"
   ]
  },
  {
   "cell_type": "code",
   "execution_count": null,
   "metadata": {},
   "outputs": [],
   "source": [
    "import pandas as pd"
   ]
  },
  {
   "cell_type": "code",
   "execution_count": null,
   "metadata": {},
   "outputs": [],
   "source": [
    "import random"
   ]
  },
  {
   "cell_type": "code",
   "execution_count": null,
   "metadata": {},
   "outputs": [],
   "source": [
    "lst = ['robot'] * 10"
   ]
  },
  {
   "cell_type": "code",
   "execution_count": null,
   "metadata": {},
   "outputs": [],
   "source": [
    "lst += ['human'] * 10"
   ]
  },
  {
   "cell_type": "code",
   "execution_count": null,
   "metadata": {},
   "outputs": [],
   "source": [
    "random.shuffle(lst)"
   ]
  },
  {
   "cell_type": "code",
   "execution_count": null,
   "metadata": {},
   "outputs": [],
   "source": [
    "data = pd.DataFrame({'whoAmI': lst})"
   ]
  },
  {
   "cell_type": "code",
   "execution_count": null,
   "metadata": {},
   "outputs": [],
   "source": [
    "print(data.head())"
   ]
  },
  {
   "cell_type": "code",
   "execution_count": null,
   "metadata": {},
   "outputs": [],
   "source": [
    "one_hot = pd.get_dummies(data['whoAmI'], columns=['whoAmI'])"
   ]
  },
  {
   "cell_type": "code",
   "execution_count": null,
   "metadata": {},
   "outputs": [],
   "source": [
    "data = data.join(one_hot)"
   ]
  },
  {
   "cell_type": "code",
   "execution_count": null,
   "metadata": {},
   "outputs": [],
   "source": [
    "print(data.head())"
   ]
  },
  {
   "attachments": {},
   "cell_type": "markdown",
   "metadata": {},
   "source": [
    "Этот код создаст исходный DataFrame, а затем создаст новый DataFrame в one hot формате. Результат работы программы будет выглядеть примерно так:\n",
    "\n",
    "   whoAmI\n",
    "0   human\n",
    "1  robot \n",
    "2   human\n",
    "3  robot \n",
    "4  robot \n",
    "\n",
    "   whoAmI  human  robot \n",
    "0   human      1       0\n",
    "1  robot       0       1\n",
    "2   human      1       0\n",
    "3  robot       0       1\n",
    "4  robot       0       1\n",
    "\n",
    "Здесь столбец `whoAmI` был преобразован в one hot формат, где каждый уникальный значениe столбца рассматривается как отдельная категория, представляющаяся в виде бинарных значений в новых столбцах `human` и `robot`. Если строка соответствует одной из категорий, то в соответствующем столбце устанавливается значение 1, а во всех остальных столбцах - 0."
   ]
  }
 ],
 "metadata": {
  "language_info": {
   "name": "python"
  },
  "orig_nbformat": 4
 },
 "nbformat": 4,
 "nbformat_minor": 2
}
